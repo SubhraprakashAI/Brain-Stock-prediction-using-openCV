{
 "cells": [],
 "metadata": {
  "kernelspec": {
   "display_name": "Brain-Stock-py39",
   "language": "python",
   "name": "python3"
  },
  "language_info": {
   "name": "python",
   "version": "3.9.23"
  }
 },
 "nbformat": 4,
 "nbformat_minor": 5
}
